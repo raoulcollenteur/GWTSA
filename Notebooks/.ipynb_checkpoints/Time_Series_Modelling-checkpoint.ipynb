{
 "cells": [
  {
   "cell_type": "markdown",
   "metadata": {},
   "source": [
    "# Basics for Time Series Analysis of Groundwater Levels"
   ]
  },
  {
   "cell_type": "markdown",
   "metadata": {},
   "source": [
    "---\n",
    "In this notebook we will learn the basics of time series analysis for groundwater levels. It is assumed that the reader is familiar with the python programming language. For a good introduction course on python programming go to:  http://github.com/jrjohansson/scientific-python-lectures. A good introduction to Python book can be found here: http://www.greenteapress.com/thinkpython/. For a detailed theoretical explanation of time series analysis see the document `TimeSeriesBasics.pdf`.\n",
    "\n",
    "The groundwater level of a specific site can be the result of different factors. We often talk about the groundwater level as the dependent variable and the explaining factors as the independent variables. These explaining variables can be be many, but the largest part of the variation in groundwater levels can be explained by a handfull of variables. The most important is the recharge, the amount of water that percolates to the groundwater through the unsaturated zone. The recharge on itself can be explained by the precipitation, evaporation and the transpiration. In the first model we will explore, these will be the variables that are used in trying to explain the groundwater levels. \n",
    "\n",
    "### Basic Time Series Model\n",
    "Let us exemplify this with a simple example of a piece of land in between two canals, shown in figure 1. We are interested in the waterlevel in the borehole in the middle of the two canals. The canals both have a water level $d$ that is kept constant over time. If there is no recharge taking place, the groundwater level will be $h = d$. We therefore also call $d$ the drainage depth, the water level that is found when no recharge (or any other system excitation) takes place.\n",
    "\n",
    "Let us now imagine a infinitely short [t] and large [L] recharge event. The effect of this recharge is a increasing groundwater level shortly after the event, followed by a slow decrease to the level is was before the event. This effect can be approximated with a gamma function, as shown by Asmuth (2012). We call this function the impulse response function, mathematically written as:\n",
    "\n",
    "$ \\theta (t) = A \\frac{a^nt^{n-1}e^{\\frac{-t}{a}}}{\\varGamma(n)} $\n",
    "\n",
    "However, this function is continuous in time, whereas our measurements that are used as input, can only be measured at a discrete time interval. To get a discrete version of the IRF, we first calculate the system response of a sudden and \n",
    "\n",
    "$ h(t) = d +  \\int\\limits_{-\\infty}^t p(\\tau)\\theta(t-\\tau)d\\tau $"
   ]
  },
  {
   "cell_type": "code",
   "execution_count": 1,
   "metadata": {
    "collapsed": false
   },
   "outputs": [
    {
     "name": "stderr",
     "output_type": "stream",
     "text": [
      ":0: FutureWarning: IPython widgets are experimental and may change in the future.\n"
     ]
    }
   ],
   "source": [
    "#Import packages for basic calculations and plotting\n",
    "import numpy as np\n",
    "import matplotlib.pyplot as plt\n",
    "from scipy.special import gammainc\n",
    "%matplotlib inline\n",
    "\n",
    "# Import packages for interactive plotting for increased understanding\n",
    "from IPython.html.widgets import interact;\n",
    "import IPython.html.widgets as widgets;"
   ]
  },
  {
   "cell_type": "code",
   "execution_count": 2,
   "metadata": {
    "collapsed": false
   },
   "outputs": [
    {
     "data": {
      "text/plain": [
       "<function __main__.impulseresponse_plot>"
      ]
     },
     "execution_count": 2,
     "metadata": {},
     "output_type": "execute_result"
    },
    {
     "data": {
      "image/png": "[encoded data removed]",
      "text/plain": [
       "<matplotlib.figure.Figure at 0x106643c50>"
      ]
     },
     "metadata": {},
     "output_type": "display_data"
    }
   ],
   "source": [
    "# Define a function that calculates and plots the impulse response function\n",
    "def impulseresponse_plot(A,a,n):\n",
    "    a = 1/a\n",
    "    t = np.linspace(0,1000)\n",
    "    Fs = A * gammainc(n,t/a) #Step Response Function\n",
    "    Fb = Fs[1:] - Fs[0:-1] # Block Response Function\n",
    "    Fb = np.append(0,Fb) #This is done for the visualisation, not for actual modelling!!\n",
    "    plt.plot(t,Fb,'r')\n",
    "    plt.xlabel('Time [days]')\n",
    "    plt.ylabel('')\n",
    "    plt.legend('IRF', loc = 1)\n",
    "    return Fb\n",
    "\n",
    "    \n",
    "interact(impulseresponse_plot, \n",
    "        A = widgets.FloatSliderWidget(min = 0.01, max = 400, step =1, description = 'A', value = 10),\n",
    "        a = widgets.FloatSliderWidget(min = 0.01, max = 1, step =0.01, value = 0.01),\n",
    "        n = widgets.FloatSliderWidget(min = 0.01, max = 10, step =0.10, value = 1.5))"
   ]
  },
  {
   "cell_type": "markdown",
   "metadata": {},
   "source": [
    "We have now explored the step response function, a central part of time series analysis for groundwater levels. "
   ]
  },
  {
   "cell_type": "code",
   "execution_count": null,
   "metadata": {
    "collapsed": true
   },
   "outputs": [],
   "source": []
  }
 ],
 "metadata": {
  "kernelspec": {
   "display_name": "Python 2",
   "language": "python",
   "name": "python2"
  },
  "language_info": {
   "codemirror_mode": {
    "name": "ipython",
    "version": 2
   },
   "file_extension": ".py",
   "mimetype": "text/x-python",
   "name": "python",
   "nbconvert_exporter": "python",
   "pygments_lexer": "ipython2",
   "version": "2.7.9"
  }
 },
 "nbformat": 4,
 "nbformat_minor": 0
}
