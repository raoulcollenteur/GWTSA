{
 "cells": [
  {
   "cell_type": "markdown",
   "metadata": {},
   "source": [
    "In this notebook we will explore the time series model of GWTSA"
   ]
  },
  {
   "cell_type": "code",
   "execution_count": 1,
   "metadata": {
    "collapsed": true
   },
   "outputs": [],
   "source": [
    "from GWTSA import *"
   ]
  },
  {
   "cell_type": "code",
   "execution_count": null,
   "metadata": {
    "collapsed": true
   },
   "outputs": [],
   "source": [
    "X1 = Parameters()\n",
    "#           (Name,  Value,  Vary,   Min,  Max,  Expr)\n",
    "X1.add_many(('A',   3.4,    True,   None, None,  None),\n",
    "           ('a',    2.0,    True,   None, None,  None),\n",
    "           ('b',    0.0,    False,  None, None,  None),\n",
    "           ('n',    1.5,    True,   None, None,  None),\n",
    "           ('alpha',2.0,    True,   None, 3.2,   None),\n",
    "           ('Srmax', -0.55, False,  None, None,  None),\n",
    "           ('Kp', -3.25,    True,   None, -1.0,  None),\n",
    "           ('beta', 1.0,    True,   None, None,  None),\n",
    "           ('gamma', 1.0,   True,   None, None,  None),\n",
    "           ('f',    1.0,    True,   None, None,  None),\n",
    "           ('imax', 1e-3,   False,  None, None,  None))\n",
    "\n",
    "\n",
    "InputData = [range(0,10000), P, E, 1]\n",
    "\n",
    "TFN_Model.percolation(X1, InputData)"
   ]
  }
 ],
 "metadata": {
  "kernelspec": {
   "display_name": "Python 2",
   "language": "python",
   "name": "python2"
  },
  "language_info": {
   "codemirror_mode": {
    "name": "ipython",
    "version": 2
   },
   "file_extension": ".py",
   "mimetype": "text/x-python",
   "name": "python",
   "nbconvert_exporter": "python",
   "pygments_lexer": "ipython2",
   "version": "2.7.10"
  }
 },
 "nbformat": 4,
 "nbformat_minor": 0
}
